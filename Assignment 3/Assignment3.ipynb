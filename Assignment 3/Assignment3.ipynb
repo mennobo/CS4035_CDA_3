{
 "cells": [
  {
   "cell_type": "code",
   "execution_count": 182,
   "metadata": {},
   "outputs": [
    {
     "name": "stderr",
     "output_type": "stream",
     "text": [
      "UsageError: Line magic function `%matplotib` not found.\n"
     ]
    }
   ],
   "source": [
    "import pandas as pd\n",
    "import random\n",
    "from collections import Counter \n",
    "import operator\n",
    "import math\n",
    "import mmh3\n",
    "import numpy as np\n",
    "import time\n",
    "import matplotlib.pylab as plt\n",
    "plt.style.use('Solarize_Light2')\n",
    "import sys\n",
    "from functools import reduce\n",
    "%matplotib inline\n"
   ]
  },
  {
   "cell_type": "code",
   "execution_count": 191,
   "metadata": {},
   "outputs": [],
   "source": [
    "# Select the dataset\n",
    "# data_file = 'capture20110815-2.pcap.netflow.labeled' # dataset 43\n",
    "# data_file = 'capture20110811.pcap.netflow.labeled' # dataset 46\n",
    "data_file = 'capture20110817.pcap.netflow.labeled' #dataset 50"
   ]
  },
  {
   "cell_type": "code",
   "execution_count": 192,
   "metadata": {
    "scrolled": false
   },
   "outputs": [
    {
     "data": {
      "text/html": [
       "<div>\n",
       "<style scoped>\n",
       "    .dataframe tbody tr th:only-of-type {\n",
       "        vertical-align: middle;\n",
       "    }\n",
       "\n",
       "    .dataframe tbody tr th {\n",
       "        vertical-align: top;\n",
       "    }\n",
       "\n",
       "    .dataframe thead th {\n",
       "        text-align: right;\n",
       "    }\n",
       "</style>\n",
       "<table border=\"1\" class=\"dataframe\">\n",
       "  <thead>\n",
       "    <tr style=\"text-align: right;\">\n",
       "      <th></th>\n",
       "      <th>Date</th>\n",
       "      <th>Duration</th>\n",
       "      <th>Protocol</th>\n",
       "      <th>SrcIP</th>\n",
       "      <th>srcPort</th>\n",
       "      <th>DstIP</th>\n",
       "      <th>DstPort</th>\n",
       "      <th>Flags</th>\n",
       "      <th>TOS</th>\n",
       "      <th>Packets</th>\n",
       "      <th>Bytes</th>\n",
       "      <th>Label</th>\n",
       "    </tr>\n",
       "  </thead>\n",
       "  <tbody>\n",
       "    <tr>\n",
       "      <th>0</th>\n",
       "      <td>2011-08-17 12:14:50.903</td>\n",
       "      <td>2.993</td>\n",
       "      <td>TCP</td>\n",
       "      <td>147.32.96.45</td>\n",
       "      <td>2048</td>\n",
       "      <td>147.32.84.165</td>\n",
       "      <td>21</td>\n",
       "      <td>S_</td>\n",
       "      <td>0</td>\n",
       "      <td>2</td>\n",
       "      <td>148</td>\n",
       "      <td>Botnet</td>\n",
       "    </tr>\n",
       "    <tr>\n",
       "      <th>1</th>\n",
       "      <td>2011-08-17 12:14:59.896</td>\n",
       "      <td>0.000</td>\n",
       "      <td>TCP</td>\n",
       "      <td>147.32.96.45</td>\n",
       "      <td>2048</td>\n",
       "      <td>147.32.84.165</td>\n",
       "      <td>21</td>\n",
       "      <td>S_</td>\n",
       "      <td>0</td>\n",
       "      <td>1</td>\n",
       "      <td>74</td>\n",
       "      <td>Botnet</td>\n",
       "    </tr>\n",
       "    <tr>\n",
       "      <th>2</th>\n",
       "      <td>2011-08-17 12:26:44.161</td>\n",
       "      <td>2.994</td>\n",
       "      <td>TCP</td>\n",
       "      <td>147.32.96.45</td>\n",
       "      <td>2048</td>\n",
       "      <td>147.32.84.165</td>\n",
       "      <td>21</td>\n",
       "      <td>S_</td>\n",
       "      <td>0</td>\n",
       "      <td>2</td>\n",
       "      <td>148</td>\n",
       "      <td>Botnet</td>\n",
       "    </tr>\n",
       "    <tr>\n",
       "      <th>3</th>\n",
       "      <td>2011-08-17 12:26:53.153</td>\n",
       "      <td>0.000</td>\n",
       "      <td>TCP</td>\n",
       "      <td>147.32.96.45</td>\n",
       "      <td>2048</td>\n",
       "      <td>147.32.84.165</td>\n",
       "      <td>21</td>\n",
       "      <td>S_</td>\n",
       "      <td>0</td>\n",
       "      <td>1</td>\n",
       "      <td>74</td>\n",
       "      <td>Botnet</td>\n",
       "    </tr>\n",
       "    <tr>\n",
       "      <th>4</th>\n",
       "      <td>2011-08-17 12:28:41.718</td>\n",
       "      <td>0.000</td>\n",
       "      <td>UDP</td>\n",
       "      <td>147.32.84.165</td>\n",
       "      <td>1025</td>\n",
       "      <td>147.32.80.9</td>\n",
       "      <td>53</td>\n",
       "      <td>INT</td>\n",
       "      <td>0</td>\n",
       "      <td>1</td>\n",
       "      <td>64</td>\n",
       "      <td>Botnet</td>\n",
       "    </tr>\n",
       "  </tbody>\n",
       "</table>\n",
       "</div>"
      ],
      "text/plain": [
       "                      Date Duration Protocol          SrcIP srcPort  \\\n",
       "0  2011-08-17 12:14:50.903    2.993      TCP   147.32.96.45    2048   \n",
       "1  2011-08-17 12:14:59.896    0.000      TCP   147.32.96.45    2048   \n",
       "2  2011-08-17 12:26:44.161    2.994      TCP   147.32.96.45    2048   \n",
       "3  2011-08-17 12:26:53.153    0.000      TCP   147.32.96.45    2048   \n",
       "4  2011-08-17 12:28:41.718    0.000      UDP  147.32.84.165    1025   \n",
       "\n",
       "           DstIP DstPort Flags TOS Packets Bytes   Label  \n",
       "0  147.32.84.165      21    S_   0       2   148  Botnet  \n",
       "1  147.32.84.165      21    S_   0       1    74  Botnet  \n",
       "2  147.32.84.165      21    S_   0       2   148  Botnet  \n",
       "3  147.32.84.165      21    S_   0       1    74  Botnet  \n",
       "4    147.32.80.9      53   INT   0       1    64  Botnet  "
      ]
     },
     "execution_count": 192,
     "metadata": {},
     "output_type": "execute_result"
    }
   ],
   "source": [
    "infected_host = '147.32.84.165'\n",
    "columns=['Date','Duration','Protocol','SrcIP', 'srcPort','DstIP', 'DstPort', 'Flags', 'TOS', 'Packets', 'Bytes', 'Label']\n",
    "lst=[]\n",
    "with open(data_file) as fp:\n",
    "    for cnt, line in enumerate(fp):\n",
    "        if cnt!=0:\n",
    "            data=line.split(\"\\t\")\n",
    "            data = list(filter(None, data)) \n",
    "            date = data[0]\n",
    "            duration = data[1]\n",
    "            protocol = data[2]\n",
    "            src = data[3].split(':')\n",
    "            if len(src) < 2: # Set port to 0 if no port provided\n",
    "                src.append(0)\n",
    "            dst = data[5].split(':')\n",
    "            if len(dst) < 2:\n",
    "                dst.append(0)\n",
    "            if (src[0] != infected_host and dst[0] != infected_host):\n",
    "                continue  # skip rows that are not about the infected host to save memory\n",
    "            if (src[0] == dst[0]):\n",
    "                print(\"CONNECT TO SELF\")\n",
    "            flags = data[6]\n",
    "            tos = data[7]\n",
    "            packets = data[8]\n",
    "            byteno = data[9]\n",
    "            flows = data[10]\n",
    "            label = data[11].rstrip()\n",
    "            lst.append([date, duration, protocol, src[0], src[1], dst[0], dst[1], flags, tos, packets, byteno, label])\n",
    "df=pd.DataFrame(lst, columns=columns)\n",
    "df.head()"
   ]
  },
  {
   "cell_type": "code",
   "execution_count": 193,
   "metadata": {},
   "outputs": [],
   "source": [
    "# infected_host = '147.32.84.165'\n",
    "# df_infected=df.loc[(df['SrcIP']==infected_host) | (df['DstIP']==infected_host)]\n",
    "# df_infected=df_infected.reset_index()\n",
    "df_infected = df"
   ]
  },
  {
   "cell_type": "code",
   "execution_count": 194,
   "metadata": {},
   "outputs": [],
   "source": [
    "df_infected.to_pickle(data_file + '_pickled.pkl')"
   ]
  },
  {
   "cell_type": "code",
   "execution_count": 195,
   "metadata": {},
   "outputs": [],
   "source": [
    "df_infected = pd.read_pickle(data_file + '_pickled.pkl')\n",
    "# df = pd.read_pickle('pickled_data.pkl')"
   ]
  },
  {
   "cell_type": "code",
   "execution_count": 196,
   "metadata": {},
   "outputs": [],
   "source": [
    "# Count connections\n",
    "ip_map = {}\n",
    "ip_list = []\n",
    "for index, row in df_infected.iterrows():\n",
    "    if row[\"SrcIP\"] == infected_host:\n",
    "        ip_map.setdefault(row[\"DstIP\"],0)\n",
    "        ip_map[row[\"DstIP\"]] += 1\n",
    "        ip_list.append(row[\"DstIP\"])\n",
    "    else:\n",
    "        ip_map.setdefault(row[\"SrcIP\"],0)\n",
    "        ip_map[row[\"SrcIP\"]] += 1\n",
    "        ip_list.append(row[\"SrcIP\"])\n",
    "        "
   ]
  },
  {
   "cell_type": "code",
   "execution_count": 197,
   "metadata": {},
   "outputs": [
    {
     "name": "stdout",
     "output_type": "stream",
     "text": [
      "[('147.32.80.9', 30533), ('212.117.171.138', 1851), ('188.72.241.107', 1203), ('173.192.170.88', 857), ('204.12.208.59', 493), ('195.190.13.78', 477), ('74.125.39.27', 314), ('209.190.94.170', 310), ('83.133.119.197', 212), ('65.54.188.72', 183)]\n"
     ]
    },
    {
     "data": {
      "text/plain": [
       "48186"
      ]
     },
     "execution_count": 197,
     "metadata": {},
     "output_type": "execute_result"
    }
   ],
   "source": [
    "# Show the 10 most frequestly connecting IPs \n",
    "print(Counter(ip_map).most_common(10))\n",
    "assert len(df_infected) == sum(Counter(ip_map).values())\n",
    "len(df_infected)"
   ]
  },
  {
   "cell_type": "code",
   "execution_count": 198,
   "metadata": {},
   "outputs": [
    {
     "name": "stdout",
     "output_type": "stream",
     "text": [
      "147.32.80.9 : 63.364877765326035%\n",
      "212.117.171.138 : 3.841364711742%\n",
      "188.72.241.107 : 2.49657576889553%\n",
      "173.192.170.88 : 1.7785248827460256%\n",
      "204.12.208.59 : 1.0231187481841197%\n",
      "195.190.13.78 : 0.9899140829286515%\n",
      "74.125.39.27 : 0.6516415556385672%\n",
      "209.190.94.170 : 0.6433403893247002%\n",
      "83.133.119.197 : 0.4399618146349562%\n",
      "65.54.188.72 : 0.37977835885941974%\n"
     ]
    }
   ],
   "source": [
    "# Calculate the exact fequencies\n",
    "most_freq_ips = Counter(ip_map).most_common(10)\n",
    "for ip in Counter(ip_map).most_common(10):\n",
    "    ips.append(ip[0])\n",
    "    print(f\"{ip[0]} : {(ip[1] / len(df_infected) * 100)}%\")\n"
   ]
  },
  {
   "cell_type": "code",
   "execution_count": 199,
   "metadata": {},
   "outputs": [],
   "source": [
    "def selectKItems(stream, n, k): \n",
    "    i=0\n",
    "    reservoir = [0]*k\n",
    "    for i in range(k): \n",
    "        if (df_infected.iloc[i, :][\"DstIP\"] == infected_host):\n",
    "            reservoir[i] = df_infected.iloc[i, :][\"SrcIP\"]\n",
    "        else:\n",
    "            reservoir[i] = df_infected.iloc[i, :][\"DstIP\"]\n",
    "\n",
    "    while(i < n): \n",
    "        j = random.randrange(i+1)\n",
    "        \n",
    "        if(j < k): \n",
    "            if (df_infected.iloc[i, :][\"DstIP\"] == infected_host):\n",
    "                reservoir[j] = df_infected.iloc[i, :][\"SrcIP\"]\n",
    "            else:\n",
    "                reservoir[j] = df_infected.iloc[i, :][\"DstIP\"]\n",
    "        i+=1\n",
    "    \n",
    "    return reservoir"
   ]
  },
  {
   "cell_type": "code",
   "execution_count": 201,
   "metadata": {},
   "outputs": [
    {
     "name": "stdout",
     "output_type": "stream",
     "text": [
      "\n",
      "\n",
      "Reservoir size = 100\n",
      "147.32.80.9 & 71 & 71.0\\% \\\\ \\hline\n",
      "212.117.171.138 & 2 & 2.0\\% \\\\ \\hline\n",
      "67.195.168.230 & 2 & 2.0\\% \\\\ \\hline\n",
      "195.190.13.78 & 1 & 1.0\\% \\\\ \\hline\n",
      "83.133.119.197 & 1 & 1.0\\% \\\\ \\hline\n",
      "188.72.241.107 & 1 & 1.0\\% \\\\ \\hline\n",
      "206.46.232.11 & 1 & 1.0\\% \\\\ \\hline\n",
      "64.18.4.14 & 1 & 1.0\\% \\\\ \\hline\n",
      "64.12.90.65 & 1 & 1.0\\% \\\\ \\hline\n",
      "50.23.235.4 & 1 & 1.0\\% \\\\ \\hline\n",
      "Memory used for reservoir: 6055 bytes\n",
      "\n",
      "\n",
      "Reservoir size = 250\n",
      "147.32.80.9 & 166 & 66.4\\% \\\\ \\hline\n",
      "212.117.171.138 & 9 & 3.5999999999999996\\% \\\\ \\hline\n",
      "173.192.170.88 & 5 & 2.0\\% \\\\ \\hline\n",
      "195.190.13.78 & 4 & 1.6\\% \\\\ \\hline\n",
      "188.72.241.107 & 4 & 1.6\\% \\\\ \\hline\n",
      "204.12.208.59 & 2 & 0.8\\% \\\\ \\hline\n",
      "87.248.120.148 & 2 & 0.8\\% \\\\ \\hline\n",
      "65.55.37.72 & 2 & 0.8\\% \\\\ \\hline\n",
      "64.12.90.98 & 2 & 0.8\\% \\\\ \\hline\n",
      "217.163.21.35 & 2 & 0.8\\% \\\\ \\hline\n",
      "Memory used for reservoir: 15180 bytes\n",
      "\n",
      "\n",
      "Reservoir size = 500\n",
      "147.32.80.9 & 310 & 62.0\\% \\\\ \\hline\n",
      "212.117.171.138 & 27 & 5.4\\% \\\\ \\hline\n",
      "188.72.241.107 & 10 & 2.0\\% \\\\ \\hline\n",
      "173.192.170.88 & 8 & 1.6\\% \\\\ \\hline\n",
      "195.190.13.78 & 5 & 1.0\\% \\\\ \\hline\n",
      "209.190.94.170 & 3 & 0.6\\% \\\\ \\hline\n",
      "74.125.47.27 & 2 & 0.4\\% \\\\ \\hline\n",
      "216.69.186.201 & 2 & 0.4\\% \\\\ \\hline\n",
      "65.55.92.152 & 2 & 0.4\\% \\\\ \\hline\n",
      "72.167.238.201 & 2 & 0.4\\% \\\\ \\hline\n",
      "Memory used for reservoir: 30438 bytes\n",
      "\n",
      "\n",
      "Reservoir size = 1000\n",
      "147.32.80.9 & 636 & 63.6\\% \\\\ \\hline\n",
      "212.117.171.138 & 45 & 4.5\\% \\\\ \\hline\n",
      "188.72.241.107 & 31 & 3.1\\% \\\\ \\hline\n",
      "173.192.170.88 & 22 & 2.1999999999999997\\% \\\\ \\hline\n",
      "204.12.208.59 & 12 & 1.2\\% \\\\ \\hline\n",
      "74.125.39.27 & 7 & 0.7000000000000001\\% \\\\ \\hline\n",
      "195.190.13.78 & 7 & 0.7000000000000001\\% \\\\ \\hline\n",
      "65.54.188.72 & 5 & 0.5\\% \\\\ \\hline\n",
      "209.190.94.170 & 5 & 0.5\\% \\\\ \\hline\n",
      "65.55.92.152 & 4 & 0.4\\% \\\\ \\hline\n",
      "Memory used for reservoir: 60817 bytes\n",
      "\n",
      "\n",
      "Reservoir size = 5000\n",
      "147.32.80.9 & 3224 & 64.48\\% \\\\ \\hline\n",
      "212.117.171.138 & 185 & 3.6999999999999997\\% \\\\ \\hline\n",
      "188.72.241.107 & 133 & 2.6599999999999997\\% \\\\ \\hline\n",
      "173.192.170.88 & 98 & 1.96\\% \\\\ \\hline\n",
      "204.12.208.59 & 48 & 0.96\\% \\\\ \\hline\n",
      "195.190.13.78 & 45 & 0.8999999999999999\\% \\\\ \\hline\n",
      "74.125.39.27 & 35 & 0.7000000000000001\\% \\\\ \\hline\n",
      "83.133.119.197 & 22 & 0.44\\% \\\\ \\hline\n",
      "65.54.188.72 & 19 & 0.38\\% \\\\ \\hline\n",
      "195.113.232.90 & 18 & 0.36\\% \\\\ \\hline\n",
      "Memory used for reservoir: 303961 bytes\n",
      "\n",
      "\n",
      "Reservoir size = 10000\n",
      "147.32.80.9 & 6389 & 63.89\\% \\\\ \\hline\n",
      "212.117.171.138 & 393 & 3.93\\% \\\\ \\hline\n",
      "188.72.241.107 & 258 & 2.58\\% \\\\ \\hline\n",
      "173.192.170.88 & 190 & 1.9\\% \\\\ \\hline\n",
      "204.12.208.59 & 97 & 0.97\\% \\\\ \\hline\n",
      "195.190.13.78 & 89 & 0.89\\% \\\\ \\hline\n",
      "74.125.39.27 & 58 & 0.58\\% \\\\ \\hline\n",
      "209.190.94.170 & 56 & 0.5599999999999999\\% \\\\ \\hline\n",
      "83.133.119.197 & 38 & 0.38\\% \\\\ \\hline\n",
      "65.54.188.72 & 37 & 0.37\\% \\\\ \\hline\n",
      "Memory used for reservoir: 607996 bytes\n",
      "\n",
      "\n",
      "Reservoir size = 25000\n",
      "147.32.80.9 & 15769 & 63.076\\% \\\\ \\hline\n",
      "212.117.171.138 & 952 & 3.8080000000000003\\% \\\\ \\hline\n",
      "188.72.241.107 & 657 & 2.628\\% \\\\ \\hline\n",
      "173.192.170.88 & 449 & 1.796\\% \\\\ \\hline\n",
      "204.12.208.59 & 267 & 1.068\\% \\\\ \\hline\n",
      "195.190.13.78 & 233 & 0.932\\% \\\\ \\hline\n",
      "74.125.39.27 & 163 & 0.652\\% \\\\ \\hline\n",
      "209.190.94.170 & 156 & 0.624\\% \\\\ \\hline\n",
      "83.133.119.197 & 97 & 0.388\\% \\\\ \\hline\n",
      "65.55.37.120 & 95 & 0.38\\% \\\\ \\hline\n",
      "Memory used for reservoir: 1520241 bytes\n",
      "\n",
      "\n",
      "Reservoir size = 48186\n",
      "147.32.80.9 & 30533 & 63.364877765326035\\% \\\\ \\hline\n",
      "212.117.171.138 & 1851 & 3.841364711742\\% \\\\ \\hline\n",
      "188.72.241.107 & 1203 & 2.49657576889553\\% \\\\ \\hline\n",
      "173.192.170.88 & 857 & 1.7785248827460256\\% \\\\ \\hline\n",
      "204.12.208.59 & 494 & 1.0251940397625865\\% \\\\ \\hline\n",
      "195.190.13.78 & 477 & 0.9899140829286515\\% \\\\ \\hline\n",
      "74.125.39.27 & 314 & 0.6516415556385672\\% \\\\ \\hline\n",
      "209.190.94.170 & 310 & 0.6433403893247002\\% \\\\ \\hline\n",
      "83.133.119.197 & 212 & 0.4399618146349562\\% \\\\ \\hline\n",
      "65.54.188.72 & 183 & 0.37977835885941974\\% \\\\ \\hline\n",
      "Memory used for reservoir: 2929960 bytes\n"
     ]
    }
   ],
   "source": [
    "reservoirSizes = [100, 250, 500, 1000, 5000, 10000, 25000, len(df_infected)]\n",
    "mem_reservoir = {}\n",
    "for reservoir in reservoirSizes:\n",
    "    print(f\"\\n\\nReservoir size = {reservoir}\")\n",
    "    kfreqIPS = selectKItems(df_infected, len(df_infected), reservoir)\n",
    "    memsize = reduce((lambda acc, y: acc + sys.getsizeof(y)), kfreqIPS, 0)\n",
    "    for ip in Counter(kfreqIPS).most_common(10):\n",
    "        print(f\"{ip[0]} & {ip[1]} & {(ip[1] / len(kfreqIPS) * 100)}\\\\% \\\\\\\\ \\\\hline\")\n",
    "    \n",
    "    mem_reservoir[reservoir] = memsize\n",
    "    print(f\"Memory used for reservoir: {memsize} bytes\")\n",
    "    "
   ]
  },
  {
   "cell_type": "code",
   "execution_count": 210,
   "metadata": {},
   "outputs": [
    {
     "data": {
      "image/png": "[encoded data removed]",
      "text/plain": [
       "<Figure size 720x432 with 1 Axes>"
      ]
     },
     "metadata": {},
     "output_type": "display_data"
    }
   ],
   "source": [
    "lists = sorted(mem_reservoir.items()) # sorted by key, return a list of tuples\n",
    "\n",
    "x, y = zip(*lists) # unpack a list of pairs into two tuples\n",
    "y = [n/1024 for n in y]\n",
    "plt.figure(figsize=(10,6))\n",
    "plt.plot(x, y, marker='o')\n",
    "plt.xlabel(\"Reservoir size\")\n",
    "plt.ylabel(\"Memory used (kilobytes)\")\n",
    "plt.savefig('memory_reservoir.png')\n",
    "plt.show()"
   ]
  },
  {
   "cell_type": "markdown",
   "metadata": {},
   "source": [
    "# COUNT-MIN sketch\n"
   ]
  },
  {
   "cell_type": "code",
   "execution_count": 150,
   "metadata": {},
   "outputs": [],
   "source": [
    "class CountMinSketch:\n",
    "    def __init__(self, width, length):\n",
    "        self.size = width*length\n",
    "        self.width = width\n",
    "        self.hash_count = length\n",
    "        self.sketch =  np.zeros(shape=(length, width))\n",
    "        \n",
    "    def add(self, string):\n",
    "        for seed in range(self.hash_count):\n",
    "            result = mmh3.hash(string, seed) % self.width\n",
    "            self.sketch[seed][result] += 1\n",
    "        \n",
    "    def find_freq(self, string):\n",
    "        values = []\n",
    "        for seed in range(self.hash_count):\n",
    "            result = mmh3.hash(string, seed) % self.width\n",
    "            values.append(self.sketch[seed][result])\n",
    "        return min(values)"
   ]
  },
  {
   "cell_type": "code",
   "execution_count": 213,
   "metadata": {},
   "outputs": [
    {
     "name": "stdout",
     "output_type": "stream",
     "text": [
      "Sketch width: 4 , 8 , 16, 32 , 64 , 128 , 256 , 512 , 1024 , 2048 , 4096\n",
      "hash num: 12 & 4.40%, 59.79%, 82.70%, 93.50%, 97.52%, 99.08%, 99.71%, 99.91%, 99.99%, 100.00%, 100.00%, \n",
      "hash num: 11 & -0.33%, 57.79%, 82.43%, 93.31%, 97.32%, 98.93%, 99.68%, 99.88%, 99.99%, 100.00%, 100.00%, \n",
      "hash num: 10 & -2.34%, 57.35%, 81.96%, 93.14%, 97.15%, 98.82%, 99.67%, 99.88%, 99.99%, 100.00%, 100.00%, \n",
      "hash num: 9 & -15.93%, 55.11%, 81.90%, 92.87%, 97.02%, 98.82%, 99.67%, 99.88%, 99.99%, 100.00%, 100.00%, \n",
      "hash num: 8 & -21.05%, 48.20%, 81.44%, 92.41%, 97.02%, 98.81%, 99.59%, 99.88%, 99.99%, 100.00%, 100.00%, \n",
      "hash num: 7 & -30.93%, 36.88%, 80.44%, 91.90%, 96.85%, 98.81%, 99.59%, 99.87%, 99.97%, 99.99%, 100.00%, \n",
      "hash num: 6 & -31.21%, 34.53%, 77.20%, 91.35%, 96.78%, 98.81%, 99.58%, 99.87%, 99.97%, 99.99%, 100.00%, \n",
      "hash num: 5 & -114.09%, 25.54%, 73.05%, 88.61%, 96.22%, 98.70%, 99.47%, 99.85%, 99.96%, 99.99%, 100.00%, \n",
      "hash num: 4 & -778.15%, -215.17%, 67.39%, 85.30%, 95.42%, 98.70%, 99.44%, 99.85%, 99.96%, 99.99%, 100.00%, \n",
      "hash num: 3 & -778.15%, -447.37%, 54.25%, 77.64%, 93.45%, 98.56%, 99.39%, 99.84%, 99.94%, 99.98%, 99.99%, \n",
      "hash num: 2 & -790.61%, -675.47%, -656.53%, -18.38%, 81.71%, 90.59%, 97.26%, 98.60%, 99.93%, 99.98%, 99.99%, \n",
      "hash num: 1 & -795.99%, -682.91%, -667.54%, -648.32%, -644.65%, -641.11%, -481.25%, -166.33%, -3.31%, 87.88%, 95.11%, \n"
     ]
    }
   ],
   "source": [
    "ips = list(ip_map.keys())\n",
    "top_ten_total = sum(sorted(Counter(ip_map).values(), reverse=True)[:10])\n",
    "run_times = {}\n",
    "\n",
    "print(\"Sketch width: 4 , 8 , 16, 32 , 64 , 128 , 256 , 512 , 1024 , 2048 , 4096\")\n",
    "for l in list(reversed([1, 2, 3, 4, 5, 6, 7, 8, 9, 10, 11, 12])):\n",
    "    print(f\"hash num: {l} & \", end=\"\")\n",
    "    tmp_runtimes = []\n",
    "    for w in [4, 8, 16, 32, 64, 128, 256, 512, 1024, 2048, 4096]:\n",
    "        start_time = time.time()\n",
    "        count_min_matrix = CountMinSketch(int(w), int(l))\n",
    "\n",
    "        for ip in ip_list:\n",
    "                count_min_matrix.add(ip)\n",
    "                \n",
    "        # find frequencies\n",
    "        count_min = {}\n",
    "        for ip in ips:\n",
    "            count_min[ip] = count_min_matrix.find_freq(ip)\n",
    "        \n",
    "        tmp_runtimes.append(time.time() - start_time)\n",
    "        # sort with most frequent on top\n",
    "        sorted_count_min = sorted(count_min.items(), key=lambda kv: kv[1], reverse = True)\n",
    "        difference_w_ground = 0\n",
    "        for i in range(10):\n",
    "            #find the difference between the count min and the ground truth for top 10\n",
    "            difference_w_ground+= abs(sorted_count_min[i][1] - most_freq_ips[i][1])\n",
    "        accuracy = 100-(difference_w_ground*100.0/top_ten_total)\n",
    "        \n",
    "        ## Print Readable format\n",
    "#         print(f'For mod={w} and {l} hash-functions, accuracy={ accuracy } %')\n",
    "        \n",
    "        ## Print LaTeX table\n",
    "#         if w == 4096:\n",
    "#             print(\"{:0.2f}\\\\% \\\\\\\\ \\\\hline\".format(accuracy))\n",
    "#         else:\n",
    "#             print(\"{:0.2f}\\\\% & \".format(accuracy), end=\"\")\n",
    "\n",
    "        ## Print CSV\n",
    "        print(\"{:0.2f}%, \".format(accuracy), end=\"\") ## printing accuracy\n",
    "#         print(f\"{count_min_matrix.sketch.nbytes}, \", end=\"\") ## print memusage\n",
    "        if w == 4096:\n",
    "            print(\"\")\n",
    "            run_times[l] = np.mean(tmp_runtimes)"
   ]
  },
  {
   "cell_type": "code",
   "execution_count": 164,
   "metadata": {},
   "outputs": [
    {
     "data": {
      "image/png": "[encoded data removed]",
      "text/plain": [
       "<Figure size 720x432 with 1 Axes>"
      ]
     },
     "metadata": {},
     "output_type": "display_data"
    }
   ],
   "source": [
    "lists = sorted(run_times.items()) # sorted by key, return a list of tuples\n",
    "\n",
    "x, y = zip(*lists) # unpack a list of pairs into two tuples\n",
    "\n",
    "plt.figure(figsize=(10,6))\n",
    "plt.plot(x, y)\n",
    "plt.xlabel(\"Amount of hashes used\")\n",
    "plt.ylabel(\"Average runtime (sec)\")\n",
    "plt.savefig('runtimes_countmin.png')\n",
    "plt.show()\n"
   ]
  }
 ],
 "metadata": {
  "kernelspec": {
   "display_name": "Python 3",
   "language": "python",
   "name": "python3"
  },
  "language_info": {
   "codemirror_mode": {
    "name": "ipython",
    "version": 3
   },
   "file_extension": ".py",
   "mimetype": "text/x-python",
   "name": "python",
   "nbconvert_exporter": "python",
   "pygments_lexer": "ipython3",
   "version": "3.7.3"
  }
 },
 "nbformat": 4,
 "nbformat_minor": 2
}
